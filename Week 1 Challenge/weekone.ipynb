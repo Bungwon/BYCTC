{
 "cells": [
  {
   "cell_type": "code",
   "execution_count": 32,
   "metadata": {},
   "outputs": [],
   "source": [
    "import numpy as np\n",
    "import matplotlib.pyplot as plt"
   ]
  },
  {
   "cell_type": "code",
   "execution_count": 25,
   "metadata": {},
   "outputs": [
    {
     "data": {
      "text/plain": [
       "array([[  1.,   0.,   0.,   0.,   0.,   0.,   0.,   0.,   0.],\n",
       "       [  0.,   1.,   0.,   0.,   0.,   0.,   0.,   0.,   0.],\n",
       "       [  0.,   0.,   1., 200.,   0.,   0.,   0.,   0.,   0.],\n",
       "       [  0.,   0.,   0.,   1.,   0.,   0.,   0.,   0.,   0.],\n",
       "       [  0.,   0.,   0.,   0.,   1.,   0.,   0.,   0.,   0.],\n",
       "       [  0.,   0.,   0.,   0.,   0.,   1.,   0.,   0.,   0.],\n",
       "       [  0.,   0.,   0.,   0.,   0.,   0.,   1.,   0.,   0.],\n",
       "       [  0.,   0.,   0.,   0.,   0.,   0.,   0.,   1.,   0.],\n",
       "       [  0.,   0.,   0.,   0.,   0.,   0.,   0.,   0.,   1.]])"
      ]
     },
     "execution_count": 25,
     "metadata": {},
     "output_type": "execute_result"
    }
   ],
   "source": [
    "def create_custom_identity(size, value, index):\n",
    "    # Create an identity matrix of the given size\n",
    "    identity_matrix = np.eye(size)\n",
    "    \n",
    "    # Insert the custom value at the specified index\n",
    "    identity_matrix[index] = value\n",
    "    \n",
    "    return identity_matrix\n",
    "\n",
    "# Example\n",
    "size = int(input(\"Enter the size of the square identity matrix: \"))\n",
    "value = int(input(\"What value should I insert? \"))\n",
    "index = (2, 3)\n",
    "\n",
    "\n",
    "create_custom_identity(size, value, index)\n"
   ]
  },
  {
   "cell_type": "code",
   "execution_count": 16,
   "metadata": {},
   "outputs": [
    {
     "name": "stdout",
     "output_type": "stream",
     "text": [
      "True\n",
      "False\n"
     ]
    }
   ],
   "source": [
    "def compare(array1, array2):\n",
    "\n",
    "    # To be equal, both arrays must have the same shape\n",
    "    if array1.shape != array2.shape:\n",
    "        return False\n",
    "    \n",
    "    # Flatten the arrays to 1D\n",
    "    arr1_flat = array1.flatten()\n",
    "    arr2_flat = array2.flatten()\n",
    "    \n",
    "    # Sort the flattened arrays\n",
    "    arr1_sorted = np.sort(arr1_flat)\n",
    "    arr2_sorted = np.sort(arr2_flat)\n",
    "    \n",
    "    # Finally compare the sorted arrays\n",
    "    return np.array_equal(arr1_sorted, arr2_sorted)\n",
    "\n",
    "# Example\n",
    "arr1 = np.array([[1, 2, 3, 4], [5, 6, 7, 8]])\n",
    "arr2 = np.array([[4, 3, 2, 1], [7, 5, 8, 6]])\n",
    "arr3 = np.array([1, 2, 2, 4])\n",
    "\n",
    "print(compare(arr1, arr2))  \n",
    "print(compare(arr1, arr3)) \n"
   ]
  },
  {
   "cell_type": "code",
   "execution_count": 21,
   "metadata": {},
   "outputs": [
    {
     "data": {
      "text/plain": [
       "array([5, 7, 9])"
      ]
     },
     "execution_count": 21,
     "metadata": {},
     "output_type": "execute_result"
    }
   ],
   "source": [
    "def safe_add(array1, array2):\n",
    "    try:\n",
    "        # Attempt to add the arrays\n",
    "        result = np.add(array1, array2)\n",
    "    except ValueError as e:\n",
    "        # Check if the ValueError is due to incompatible shapes\n",
    "        raise ValueError(f\"Arrays have incompatible shapes for addition: {array1.shape} and {array2.shape}\") from e\n",
    "    \n",
    "    return result\n",
    "\n",
    "# Example \n",
    "arr4 = np.array([1, 2, 3])\n",
    "arr5 = np.array([4, 5, 6])\n",
    "arr6 = np.array([[1, 2], [5, 6]])\n",
    "\n",
    "safe_add(arr4, arr5)"
   ]
  },
  {
   "cell_type": "code",
   "execution_count": 23,
   "metadata": {},
   "outputs": [
    {
     "data": {
      "text/plain": [
       "array([13, 14, 15])"
      ]
     },
     "execution_count": 23,
     "metadata": {},
     "output_type": "execute_result"
    }
   ],
   "source": [
    "def absolute_array(arrays):\n",
    "    \n",
    "    result = np.absolute(arrays)\n",
    "    \n",
    "    return result\n",
    "\n",
    "# Example\n",
    "\n",
    "sample = np.array([13, -14, 15])\n",
    "\n",
    "absolute_array(sample)"
   ]
  },
  {
   "cell_type": "code",
   "execution_count": 24,
   "metadata": {},
   "outputs": [
    {
     "data": {
      "text/plain": [
       "array([[0.38383457, 0.43938711, 0.69499937, 0.38518135, 0.45629797],\n",
       "       [0.72971016, 0.58845344, 0.35988575, 0.59365646, 0.38669526],\n",
       "       [0.84877462, 0.64286086, 0.55723838, 0.42257015, 0.49614762],\n",
       "       [0.51086083, 0.53098125, 0.72167525, 0.49986257, 0.64831783],\n",
       "       [0.47565016, 0.53958511, 0.47399311, 0.64466497, 0.41533926]])"
      ]
     },
     "execution_count": 24,
     "metadata": {},
     "output_type": "execute_result"
    }
   ],
   "source": [
    "import numpy as np\n",
    "\n",
    "def flatten(terrain_data):\n",
    "    # Confirm that the input is indeed a 3D array\n",
    "    if terrain_data.ndim != 3:\n",
    "        raise ValueError(\"Input terrain_data must be a 3D NumPy array.\")\n",
    "    \n",
    "    # Collapse the last dimension by taking the mean along that dimension\n",
    "    height_map = np.mean(terrain_data, axis=2)\n",
    "    \n",
    "    return height_map\n",
    "\n",
    "# Example usage:\n",
    "terrain_data = np.random.rand(5, 5, 3)\n",
    "\n",
    "flatten(terrain_data)\n"
   ]
  },
  {
   "cell_type": "code",
   "execution_count": 34,
   "metadata": {},
   "outputs": [
    {
     "data": {
      "image/png": "[encoded data removed]",
      "text/plain": [
       "<Figure size 640x480 with 1 Axes>"
      ]
     },
     "metadata": {},
     "output_type": "display_data"
    }
   ],
   "source": [
    "# Image dimensions\n",
    "width = 28\n",
    "height = 28\n",
    "\n",
    "# Random NumPy array filled with Grayscale values ranging from 0 to 255\n",
    "grayscale_image = np.random.randint(0, 256, (height, width), dtype=np.uint8)\n",
    "\n",
    "# Plot the generated grayscale image using matplotlib\n",
    "plt.imshow(grayscale_image, cmap='gray', vmin=0, vmax=255)\n",
    "plt.title(\"Grayscale Image\")\n",
    "plt.axis('off')  # Turn off axis labels and ticks\n",
    "plt.show()\n"
   ]
  },
  {
   "cell_type": "code",
   "execution_count": 35,
   "metadata": {},
   "outputs": [
    {
     "data": {
      "image/png": "[encoded data removed]",
      "text/plain": [
       "<Figure size 640x480 with 1 Axes>"
      ]
     },
     "metadata": {},
     "output_type": "display_data"
    }
   ],
   "source": [
    "# Image dimensions\n",
    "width = 28\n",
    "height = 28\n",
    "\n",
    "maximum = int(input(\"What is your maximum Grayscale value?\"))\n",
    "# Random NumPy array filled with Grayscale values ranging from 0 to 255\n",
    "grayscale_image = np.random.randint(0, maximum, (height, width), dtype=np.uint8)\n",
    "\n",
    "# Plot the generated grayscale image using matplotlib\n",
    "plt.imshow(grayscale_image, cmap='gray', vmin=0, vmax=255)\n",
    "plt.title(\"Grayscale Image\")\n",
    "plt.axis('off')  # Turn off axis labels and ticks\n",
    "plt.show()\n"
   ]
  },
  {
   "cell_type": "code",
   "execution_count": null,
   "metadata": {},
   "outputs": [],
   "source": []
  }
 ],
 "metadata": {
  "kernelspec": {
   "display_name": "Python 3",
   "language": "python",
   "name": "python3"
  },
  "language_info": {
   "codemirror_mode": {
    "name": "ipython",
    "version": 3
   },
   "file_extension": ".py",
   "mimetype": "text/x-python",
   "name": "python",
   "nbconvert_exporter": "python",
   "pygments_lexer": "ipython3",
   "version": "3.12.1"
  }
 },
 "nbformat": 4,
 "nbformat_minor": 2
}
